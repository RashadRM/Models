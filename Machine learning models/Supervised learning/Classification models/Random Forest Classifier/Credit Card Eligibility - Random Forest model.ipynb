{
 "cells": [
  {
   "cell_type": "code",
   "execution_count": null,
   "id": "1d354dc0",
   "metadata": {},
   "outputs": [],
   "source": [
    "import numpy as np\n",
    "import matplotlib.pyplot as plt\n",
    "import pandas as pd\n",
    "import seaborn as sns\n",
    "sns.set()\n",
    "from sklearn.model_selection import train_test_split\n",
    "from sklearn.ensemble import RandomForestClassifier\n",
    "from sklearn.model_selection import train_test_split"
   ]
  },
  {
   "cell_type": "code",
   "execution_count": null,
   "id": "ecac9796",
   "metadata": {},
   "outputs": [],
   "source": [
    "path = r'C:\\Users\\User\\Desktop\\Rashad\\DATA\\dataset.csv'\n",
    "\n",
    "# Load dataset from Excel file\n",
    "data = pd.read_csv(path)\n",
    "\n",
    "# Set option to display all columns\n",
    "pd.set_option('display.max_columns', None)\n",
    "\n",
    "#Display the loaded dataset\n",
    "data"
   ]
  },
  {
   "cell_type": "code",
   "execution_count": null,
   "id": "2dfff371",
   "metadata": {},
   "outputs": [],
   "source": [
    "data.isnull().sum()"
   ]
  },
  {
   "cell_type": "code",
   "execution_count": null,
   "id": "afbc3cfc",
   "metadata": {
    "scrolled": true
   },
   "outputs": [],
   "source": [
    "data.duplicated().sum()"
   ]
  },
  {
   "cell_type": "code",
   "execution_count": null,
   "id": "4c70af30",
   "metadata": {},
   "outputs": [],
   "source": [
    "# Identify categorical columns\n",
    "categorical_columns = data.select_dtypes(include=['object']).columns\n",
    "\n",
    "# Perform one-hot encoding\n",
    "data = pd.get_dummies(data, columns=categorical_columns)"
   ]
  },
  {
   "cell_type": "code",
   "execution_count": null,
   "id": "661f3912",
   "metadata": {},
   "outputs": [],
   "source": [
    "X = data.drop('Target', axis=1)\n",
    "y = data['Target']"
   ]
  },
  {
   "cell_type": "code",
   "execution_count": null,
   "id": "53929be7",
   "metadata": {},
   "outputs": [],
   "source": [
    "X_train, X_test, y_train, y_test = train_test_split(X, y, test_size=0.3, random_state=42)"
   ]
  },
  {
   "cell_type": "code",
   "execution_count": null,
   "id": "f86c4801",
   "metadata": {},
   "outputs": [],
   "source": [
    "def train_and_evaluate_model(model_name, model, X_train, y_train, X_test, y_test):\n",
    "    \"\"\"\n",
    "    Train and evaluate the given model on the training and testing data.\n",
    "\n",
    "    Parameters:\n",
    "    model_name (str): Name of the model for display purposes.\n",
    "    model : Machine learning model object.\n",
    "    X_train : Features of the training data.\n",
    "    y_train : Target labels of the training data.\n",
    "    X_test : Features of the testing data.\n",
    "    y_test : Target labels of the testing data.\n",
    "\n",
    "    Returns:\n",
    "    tuple: Gini coefficients calculated from the model's predictions on training and testing data.\n",
    "    \"\"\"\n",
    "\n",
    "    # Fit the model on the training data\n",
    "    model.fit(X_train, y_train)\n",
    "\n",
    "    # Predict probabilities on the training and testing data\n",
    "    y_train_prob = model.predict_proba(X_train)[:, 1]\n",
    "    y_test_prob = model.predict_proba(X_test)[:, 1]\n",
    "\n",
    "    # Calculate Gini coefficients\n",
    "    gini_train_prob = roc_auc_score(y_train, y_train_prob) * 2 - 1\n",
    "    gini_test_prob = roc_auc_score(y_test, y_test_prob) * 2 - 1\n",
    "\n",
    "    # Print model performance metrics\n",
    "    print(f'Model Performance for {model_name}')\n",
    "    print('Gini train prob is', gini_train_prob * 100)\n",
    "    print('Gini test prob is', gini_test_prob * 100)\n",
    "\n",
    "    return gini_train_prob, gini_test_prob"
   ]
  },
  {
   "cell_type": "code",
   "execution_count": null,
   "id": "773df765",
   "metadata": {},
   "outputs": [],
   "source": [
    "rfc = RandomForestClassifier()\n",
    "rfc.fit(X_train, y_train)"
   ]
  },
  {
   "cell_type": "code",
   "execution_count": null,
   "id": "62f40ae9",
   "metadata": {},
   "outputs": [],
   "source": [
    "# Initialize and evaluate Random Forest model\n",
    "model_name = 'Random Forest'\n",
    "model = RandomForestClassifier(random_state=42)\n",
    "gini_train_prob, gini_test_prob = train_and_evaluate_model(model_name, model, X_train, y_train, X_test, y_test)\n",
    "\n",
    "# Construct DataFrame to store results\n",
    "gini_df = pd.DataFrame({'Model': [model_name], 'Gini_train_prob': [gini_train_prob], 'Gini_test_prob': [gini_test_prob]})"
   ]
  },
  {
   "cell_type": "code",
   "execution_count": null,
   "id": "2462d749",
   "metadata": {},
   "outputs": [],
   "source": []
  }
 ],
 "metadata": {
  "kernelspec": {
   "display_name": "Python 3 (ipykernel)",
   "language": "python",
   "name": "python3"
  },
  "language_info": {
   "codemirror_mode": {
    "name": "ipython",
    "version": 3
   },
   "file_extension": ".py",
   "mimetype": "text/x-python",
   "name": "python",
   "nbconvert_exporter": "python",
   "pygments_lexer": "ipython3",
   "version": "3.11.5"
  }
 },
 "nbformat": 4,
 "nbformat_minor": 5
}
