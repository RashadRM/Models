{
 "cells": [
  {
   "cell_type": "code",
   "execution_count": 46,
   "id": "9caffd83",
   "metadata": {},
   "outputs": [],
   "source": [
    "import numpy as np  # Import numpy for numerical operations\n",
    "import pandas as pd  # Import pandas for data manipulation\n",
    "import matplotlib.pyplot as plt  # Import matplotlib for plotting\n",
    "import seaborn as sns  # Import seaborn for enhanced visualizations\n",
    "sns.set()  # Set seaborn style\n",
    "\n",
    "from sklearn.model_selection import train_test_split  # Import train_test_split for splitting data\n",
    "from sklearn.linear_model import LinearRegression  # Import LinearRegression for linear regression modeling\n",
    "from sklearn.metrics import mean_squared_error  # Import mean_squared_error for model evaluation\n",
    "from sklearn import metrics  # Import metrics for additional model evaluation"
   ]
  },
  {
   "cell_type": "code",
   "execution_count": 47,
   "id": "228c0b1b",
   "metadata": {},
   "outputs": [
    {
     "data": {
      "text/html": [
       "<div>\n",
       "<style scoped>\n",
       "    .dataframe tbody tr th:only-of-type {\n",
       "        vertical-align: middle;\n",
       "    }\n",
       "\n",
       "    .dataframe tbody tr th {\n",
       "        vertical-align: top;\n",
       "    }\n",
       "\n",
       "    .dataframe thead th {\n",
       "        text-align: right;\n",
       "    }\n",
       "</style>\n",
       "<table border=\"1\" class=\"dataframe\">\n",
       "  <thead>\n",
       "    <tr style=\"text-align: right;\">\n",
       "      <th></th>\n",
       "      <th>Age (in years)</th>\n",
       "      <th>Weight (in kg)</th>\n",
       "      <th>Muzzle Velocity (m/s)</th>\n",
       "      <th>Max Range (m)</th>\n",
       "      <th>Price (in $)</th>\n",
       "    </tr>\n",
       "  </thead>\n",
       "  <tbody>\n",
       "    <tr>\n",
       "      <th>0</th>\n",
       "      <td>5</td>\n",
       "      <td>3.0</td>\n",
       "      <td>800</td>\n",
       "      <td>600</td>\n",
       "      <td>1500</td>\n",
       "    </tr>\n",
       "    <tr>\n",
       "      <th>1</th>\n",
       "      <td>4</td>\n",
       "      <td>3.2</td>\n",
       "      <td>810</td>\n",
       "      <td>620</td>\n",
       "      <td>1800</td>\n",
       "    </tr>\n",
       "    <tr>\n",
       "      <th>2</th>\n",
       "      <td>3</td>\n",
       "      <td>3.1</td>\n",
       "      <td>820</td>\n",
       "      <td>630</td>\n",
       "      <td>1600</td>\n",
       "    </tr>\n",
       "    <tr>\n",
       "      <th>3</th>\n",
       "      <td>6</td>\n",
       "      <td>3.3</td>\n",
       "      <td>830</td>\n",
       "      <td>640</td>\n",
       "      <td>1700</td>\n",
       "    </tr>\n",
       "    <tr>\n",
       "      <th>4</th>\n",
       "      <td>2</td>\n",
       "      <td>2.9</td>\n",
       "      <td>790</td>\n",
       "      <td>590</td>\n",
       "      <td>1400</td>\n",
       "    </tr>\n",
       "    <tr>\n",
       "      <th>...</th>\n",
       "      <td>...</td>\n",
       "      <td>...</td>\n",
       "      <td>...</td>\n",
       "      <td>...</td>\n",
       "      <td>...</td>\n",
       "    </tr>\n",
       "    <tr>\n",
       "      <th>95</th>\n",
       "      <td>21</td>\n",
       "      <td>8.4</td>\n",
       "      <td>990</td>\n",
       "      <td>780</td>\n",
       "      <td>3350</td>\n",
       "    </tr>\n",
       "    <tr>\n",
       "      <th>96</th>\n",
       "      <td>22</td>\n",
       "      <td>8.7</td>\n",
       "      <td>1000</td>\n",
       "      <td>790</td>\n",
       "      <td>3450</td>\n",
       "    </tr>\n",
       "    <tr>\n",
       "      <th>97</th>\n",
       "      <td>23</td>\n",
       "      <td>9.0</td>\n",
       "      <td>1010</td>\n",
       "      <td>800</td>\n",
       "      <td>3550</td>\n",
       "    </tr>\n",
       "    <tr>\n",
       "      <th>98</th>\n",
       "      <td>24</td>\n",
       "      <td>9.3</td>\n",
       "      <td>1020</td>\n",
       "      <td>810</td>\n",
       "      <td>3650</td>\n",
       "    </tr>\n",
       "    <tr>\n",
       "      <th>99</th>\n",
       "      <td>25</td>\n",
       "      <td>9.6</td>\n",
       "      <td>1030</td>\n",
       "      <td>820</td>\n",
       "      <td>3750</td>\n",
       "    </tr>\n",
       "  </tbody>\n",
       "</table>\n",
       "<p>100 rows × 5 columns</p>\n",
       "</div>"
      ],
      "text/plain": [
       "    Age (in years)  Weight (in kg)  Muzzle Velocity (m/s)  Max Range (m)  \\\n",
       "0                5             3.0                    800            600   \n",
       "1                4             3.2                    810            620   \n",
       "2                3             3.1                    820            630   \n",
       "3                6             3.3                    830            640   \n",
       "4                2             2.9                    790            590   \n",
       "..             ...             ...                    ...            ...   \n",
       "95              21             8.4                    990            780   \n",
       "96              22             8.7                   1000            790   \n",
       "97              23             9.0                   1010            800   \n",
       "98              24             9.3                   1020            810   \n",
       "99              25             9.6                   1030            820   \n",
       "\n",
       "    Price (in $)  \n",
       "0           1500  \n",
       "1           1800  \n",
       "2           1600  \n",
       "3           1700  \n",
       "4           1400  \n",
       "..           ...  \n",
       "95          3350  \n",
       "96          3450  \n",
       "97          3550  \n",
       "98          3650  \n",
       "99          3750  \n",
       "\n",
       "[100 rows x 5 columns]"
      ]
     },
     "execution_count": 47,
     "metadata": {},
     "output_type": "execute_result"
    }
   ],
   "source": [
    "# Define the file path where the dataset is located\n",
    "path = r'C:\\Users\\User\\Desktop\\Rashad\\DATA\\Gun Price Prediction.csv'\n",
    "\n",
    "# Read the dataset into a pandas DataFrame\n",
    "data = pd.read_csv(path)\n",
    "\n",
    "# Display the dataset\n",
    "data"
   ]
  },
  {
   "cell_type": "code",
   "execution_count": 48,
   "id": "e3ccacbb",
   "metadata": {},
   "outputs": [
    {
     "data": {
      "text/html": [
       "<div>\n",
       "<style scoped>\n",
       "    .dataframe tbody tr th:only-of-type {\n",
       "        vertical-align: middle;\n",
       "    }\n",
       "\n",
       "    .dataframe tbody tr th {\n",
       "        vertical-align: top;\n",
       "    }\n",
       "\n",
       "    .dataframe thead th {\n",
       "        text-align: right;\n",
       "    }\n",
       "</style>\n",
       "<table border=\"1\" class=\"dataframe\">\n",
       "  <thead>\n",
       "    <tr style=\"text-align: right;\">\n",
       "      <th></th>\n",
       "      <th>Age (in years)</th>\n",
       "      <th>Weight (in kg)</th>\n",
       "      <th>Muzzle Velocity (m/s)</th>\n",
       "      <th>Max Range (m)</th>\n",
       "      <th>Price (in $)</th>\n",
       "    </tr>\n",
       "  </thead>\n",
       "  <tbody>\n",
       "    <tr>\n",
       "      <th>count</th>\n",
       "      <td>100.00000</td>\n",
       "      <td>100.000000</td>\n",
       "      <td>100.00000</td>\n",
       "      <td>100.000000</td>\n",
       "      <td>100.000000</td>\n",
       "    </tr>\n",
       "    <tr>\n",
       "      <th>mean</th>\n",
       "      <td>12.02000</td>\n",
       "      <td>5.656000</td>\n",
       "      <td>895.60000</td>\n",
       "      <td>693.700000</td>\n",
       "      <td>2376.000000</td>\n",
       "    </tr>\n",
       "    <tr>\n",
       "      <th>std</th>\n",
       "      <td>6.60881</td>\n",
       "      <td>1.980374</td>\n",
       "      <td>67.95453</td>\n",
       "      <td>64.340555</td>\n",
       "      <td>616.706796</td>\n",
       "    </tr>\n",
       "    <tr>\n",
       "      <th>min</th>\n",
       "      <td>2.00000</td>\n",
       "      <td>2.900000</td>\n",
       "      <td>790.00000</td>\n",
       "      <td>590.000000</td>\n",
       "      <td>1400.000000</td>\n",
       "    </tr>\n",
       "    <tr>\n",
       "      <th>25%</th>\n",
       "      <td>6.00000</td>\n",
       "      <td>3.700000</td>\n",
       "      <td>830.00000</td>\n",
       "      <td>640.000000</td>\n",
       "      <td>1850.000000</td>\n",
       "    </tr>\n",
       "    <tr>\n",
       "      <th>50%</th>\n",
       "      <td>11.50000</td>\n",
       "      <td>5.500000</td>\n",
       "      <td>890.00000</td>\n",
       "      <td>687.500000</td>\n",
       "      <td>2200.000000</td>\n",
       "    </tr>\n",
       "    <tr>\n",
       "      <th>75%</th>\n",
       "      <td>18.00000</td>\n",
       "      <td>7.400000</td>\n",
       "      <td>951.25000</td>\n",
       "      <td>750.000000</td>\n",
       "      <td>2850.000000</td>\n",
       "    </tr>\n",
       "    <tr>\n",
       "      <th>max</th>\n",
       "      <td>25.00000</td>\n",
       "      <td>9.600000</td>\n",
       "      <td>1030.00000</td>\n",
       "      <td>820.000000</td>\n",
       "      <td>3750.000000</td>\n",
       "    </tr>\n",
       "  </tbody>\n",
       "</table>\n",
       "</div>"
      ],
      "text/plain": [
       "       Age (in years)  Weight (in kg)  Muzzle Velocity (m/s)  Max Range (m)  \\\n",
       "count       100.00000      100.000000              100.00000     100.000000   \n",
       "mean         12.02000        5.656000              895.60000     693.700000   \n",
       "std           6.60881        1.980374               67.95453      64.340555   \n",
       "min           2.00000        2.900000              790.00000     590.000000   \n",
       "25%           6.00000        3.700000              830.00000     640.000000   \n",
       "50%          11.50000        5.500000              890.00000     687.500000   \n",
       "75%          18.00000        7.400000              951.25000     750.000000   \n",
       "max          25.00000        9.600000             1030.00000     820.000000   \n",
       "\n",
       "       Price (in $)  \n",
       "count    100.000000  \n",
       "mean    2376.000000  \n",
       "std      616.706796  \n",
       "min     1400.000000  \n",
       "25%     1850.000000  \n",
       "50%     2200.000000  \n",
       "75%     2850.000000  \n",
       "max     3750.000000  "
      ]
     },
     "execution_count": 48,
     "metadata": {},
     "output_type": "execute_result"
    }
   ],
   "source": [
    "# Generate descriptive statistics of the dataset\n",
    "data.describe()"
   ]
  },
  {
   "cell_type": "code",
   "execution_count": 49,
   "id": "5f491c82",
   "metadata": {},
   "outputs": [
    {
     "data": {
      "text/plain": [
       "Age (in years)             int64\n",
       "Weight (in kg)           float64\n",
       "Muzzle Velocity (m/s)      int64\n",
       "Max Range (m)              int64\n",
       "Price (in $)               int64\n",
       "dtype: object"
      ]
     },
     "execution_count": 49,
     "metadata": {},
     "output_type": "execute_result"
    }
   ],
   "source": [
    "# Display the data types of each column in the dataset\n",
    "data.dtypes"
   ]
  },
  {
   "cell_type": "code",
   "execution_count": 50,
   "id": "e990a359",
   "metadata": {},
   "outputs": [
    {
     "data": {
      "text/plain": [
       "0"
      ]
     },
     "execution_count": 50,
     "metadata": {},
     "output_type": "execute_result"
    }
   ],
   "source": [
    "# Count the number of duplicated rows in the dataset\n",
    "data.duplicated().sum()"
   ]
  },
  {
   "cell_type": "code",
   "execution_count": 51,
   "id": "8760b4cf",
   "metadata": {},
   "outputs": [
    {
     "data": {
      "text/plain": [
       "Age (in years)           0\n",
       "Weight (in kg)           0\n",
       "Muzzle Velocity (m/s)    0\n",
       "Max Range (m)            0\n",
       "Price (in $)             0\n",
       "dtype: int64"
      ]
     },
     "execution_count": 51,
     "metadata": {},
     "output_type": "execute_result"
    }
   ],
   "source": [
    "# Count the number of missing values (null values) in each column of the dataset\n",
    "data.isnull().sum()"
   ]
  },
  {
   "cell_type": "code",
   "execution_count": 52,
   "id": "00323733",
   "metadata": {},
   "outputs": [
    {
     "data": {
      "text/html": [
       "<div>\n",
       "<style scoped>\n",
       "    .dataframe tbody tr th:only-of-type {\n",
       "        vertical-align: middle;\n",
       "    }\n",
       "\n",
       "    .dataframe tbody tr th {\n",
       "        vertical-align: top;\n",
       "    }\n",
       "\n",
       "    .dataframe thead th {\n",
       "        text-align: right;\n",
       "    }\n",
       "</style>\n",
       "<table border=\"1\" class=\"dataframe\">\n",
       "  <thead>\n",
       "    <tr style=\"text-align: right;\">\n",
       "      <th></th>\n",
       "      <th>Age (in years)</th>\n",
       "      <th>Weight (in kg)</th>\n",
       "      <th>Muzzle Velocity (m/s)</th>\n",
       "      <th>Max Range (m)</th>\n",
       "      <th>Price (in $)</th>\n",
       "    </tr>\n",
       "  </thead>\n",
       "  <tbody>\n",
       "    <tr>\n",
       "      <th>Age (in years)</th>\n",
       "      <td>1.000000</td>\n",
       "      <td>0.996052</td>\n",
       "      <td>0.985786</td>\n",
       "      <td>0.979722</td>\n",
       "      <td>0.879934</td>\n",
       "    </tr>\n",
       "    <tr>\n",
       "      <th>Weight (in kg)</th>\n",
       "      <td>0.996052</td>\n",
       "      <td>1.000000</td>\n",
       "      <td>0.990518</td>\n",
       "      <td>0.984293</td>\n",
       "      <td>0.891693</td>\n",
       "    </tr>\n",
       "    <tr>\n",
       "      <th>Muzzle Velocity (m/s)</th>\n",
       "      <td>0.985786</td>\n",
       "      <td>0.990518</td>\n",
       "      <td>1.000000</td>\n",
       "      <td>0.990937</td>\n",
       "      <td>0.920713</td>\n",
       "    </tr>\n",
       "    <tr>\n",
       "      <th>Max Range (m)</th>\n",
       "      <td>0.979722</td>\n",
       "      <td>0.984293</td>\n",
       "      <td>0.990937</td>\n",
       "      <td>1.000000</td>\n",
       "      <td>0.915900</td>\n",
       "    </tr>\n",
       "    <tr>\n",
       "      <th>Price (in $)</th>\n",
       "      <td>0.879934</td>\n",
       "      <td>0.891693</td>\n",
       "      <td>0.920713</td>\n",
       "      <td>0.915900</td>\n",
       "      <td>1.000000</td>\n",
       "    </tr>\n",
       "  </tbody>\n",
       "</table>\n",
       "</div>"
      ],
      "text/plain": [
       "                       Age (in years)  Weight (in kg)  Muzzle Velocity (m/s)  \\\n",
       "Age (in years)               1.000000        0.996052               0.985786   \n",
       "Weight (in kg)               0.996052        1.000000               0.990518   \n",
       "Muzzle Velocity (m/s)        0.985786        0.990518               1.000000   \n",
       "Max Range (m)                0.979722        0.984293               0.990937   \n",
       "Price (in $)                 0.879934        0.891693               0.920713   \n",
       "\n",
       "                       Max Range (m)  Price (in $)  \n",
       "Age (in years)              0.979722      0.879934  \n",
       "Weight (in kg)              0.984293      0.891693  \n",
       "Muzzle Velocity (m/s)       0.990937      0.920713  \n",
       "Max Range (m)               1.000000      0.915900  \n",
       "Price (in $)                0.915900      1.000000  "
      ]
     },
     "execution_count": 52,
     "metadata": {},
     "output_type": "execute_result"
    }
   ],
   "source": [
    "# Calculate correlation matrix for numerical columns\n",
    "data.corr()"
   ]
  },
  {
   "cell_type": "code",
   "execution_count": 53,
   "id": "d6ef198d",
   "metadata": {},
   "outputs": [
    {
     "data": {
      "text/plain": [
       "<Axes: >"
      ]
     },
     "execution_count": 53,
     "metadata": {},
     "output_type": "execute_result"
    },
    {
     "data": {
      "image/png": "[encoded data removed]",
      "text/plain": [
       "<Figure size 640x480 with 2 Axes>"
      ]
     },
     "metadata": {},
     "output_type": "display_data"
    }
   ],
   "source": [
    "# Display heatmap of correlation matrix\n",
    "sns.heatmap(data.corr())"
   ]
  },
  {
   "cell_type": "code",
   "execution_count": 54,
   "id": "fda74019",
   "metadata": {},
   "outputs": [
    {
     "data": {
      "image/png": "[encoded data removed]",
      "text/plain": [
       "<Figure size 640x480 with 1 Axes>"
      ]
     },
     "metadata": {},
     "output_type": "display_data"
    },
    {
     "data": {
      "image/png": "[encoded data removed]",
      "text/plain": [
       "<Figure size 640x480 with 1 Axes>"
      ]
     },
     "metadata": {},
     "output_type": "display_data"
    },
    {
     "data": {
      "image/png": "[encoded data removed]",
      "text/plain": [
       "<Figure size 640x480 with 1 Axes>"
      ]
     },
     "metadata": {},
     "output_type": "display_data"
    },
    {
     "data": {
      "image/png": "[encoded data removed]",
      "text/plain": [
       "<Figure size 640x480 with 1 Axes>"
      ]
     },
     "metadata": {},
     "output_type": "display_data"
    },
    {
     "data": {
      "image/png": "[encoded data removed]",
      "text/plain": [
       "<Figure size 640x480 with 1 Axes>"
      ]
     },
     "metadata": {},
     "output_type": "display_data"
    }
   ],
   "source": [
    "# Visualize boxplots for numerical columns\n",
    "for i in data.columns:\n",
    "    sns.boxplot(x=data[i], data=data)\n",
    "    plt.show()"
   ]
  },
  {
   "cell_type": "code",
   "execution_count": 55,
   "id": "7f10efa4",
   "metadata": {},
   "outputs": [
    {
     "data": {
      "text/plain": [
       "Index(['Age (in years)', 'Weight (in kg)', 'Muzzle Velocity (m/s)',\n",
       "       'Max Range (m)', 'Price (in $)'],\n",
       "      dtype='object')"
      ]
     },
     "execution_count": 55,
     "metadata": {},
     "output_type": "execute_result"
    }
   ],
   "source": [
    "# Display the names of all columns in the dataset\n",
    "data.columns"
   ]
  },
  {
   "cell_type": "code",
   "execution_count": 63,
   "id": "c56b2414",
   "metadata": {},
   "outputs": [],
   "source": [
    "# Select features (X) and target variable (y)\n",
    "X = data[['Age (in years)', 'Weight (in kg)', 'Muzzle Velocity (m/s)', 'Max Range (m)']]\n",
    "y = data['Price (in $)']\n",
    "\n",
    "# Convert DataFrame to numpy arrays\n",
    "X = X.to_numpy()\n",
    "y = y.to_numpy()"
   ]
  },
  {
   "cell_type": "code",
   "execution_count": 64,
   "id": "8b098b3d",
   "metadata": {},
   "outputs": [],
   "source": [
    "# Split the dataset into training and testing sets\n",
    "X_train, X_test, y_train, y_test = train_test_split(X, y, test_size = 0.2,random_state=42)"
   ]
  },
  {
   "cell_type": "code",
   "execution_count": 67,
   "id": "acb141a8",
   "metadata": {},
   "outputs": [
    {
     "data": {
      "text/html": [
       "<style>#sk-container-id-1 {color: black;}#sk-container-id-1 pre{padding: 0;}#sk-container-id-1 div.sk-toggleable {background-color: white;}#sk-container-id-1 label.sk-toggleable__label {cursor: pointer;display: block;width: 100%;margin-bottom: 0;padding: 0.3em;box-sizing: border-box;text-align: center;}#sk-container-id-1 label.sk-toggleable__label-arrow:before {content: \"▸\";float: left;margin-right: 0.25em;color: #696969;}#sk-container-id-1 label.sk-toggleable__label-arrow:hover:before {color: black;}#sk-container-id-1 div.sk-estimator:hover label.sk-toggleable__label-arrow:before {color: black;}#sk-container-id-1 div.sk-toggleable__content {max-height: 0;max-width: 0;overflow: hidden;text-align: left;background-color: #f0f8ff;}#sk-container-id-1 div.sk-toggleable__content pre {margin: 0.2em;color: black;border-radius: 0.25em;background-color: #f0f8ff;}#sk-container-id-1 input.sk-toggleable__control:checked~div.sk-toggleable__content {max-height: 200px;max-width: 100%;overflow: auto;}#sk-container-id-1 input.sk-toggleable__control:checked~label.sk-toggleable__label-arrow:before {content: \"▾\";}#sk-container-id-1 div.sk-estimator input.sk-toggleable__control:checked~label.sk-toggleable__label {background-color: #d4ebff;}#sk-container-id-1 div.sk-label input.sk-toggleable__control:checked~label.sk-toggleable__label {background-color: #d4ebff;}#sk-container-id-1 input.sk-hidden--visually {border: 0;clip: rect(1px 1px 1px 1px);clip: rect(1px, 1px, 1px, 1px);height: 1px;margin: -1px;overflow: hidden;padding: 0;position: absolute;width: 1px;}#sk-container-id-1 div.sk-estimator {font-family: monospace;background-color: #f0f8ff;border: 1px dotted black;border-radius: 0.25em;box-sizing: border-box;margin-bottom: 0.5em;}#sk-container-id-1 div.sk-estimator:hover {background-color: #d4ebff;}#sk-container-id-1 div.sk-parallel-item::after {content: \"\";width: 100%;border-bottom: 1px solid gray;flex-grow: 1;}#sk-container-id-1 div.sk-label:hover label.sk-toggleable__label {background-color: #d4ebff;}#sk-container-id-1 div.sk-serial::before {content: \"\";position: absolute;border-left: 1px solid gray;box-sizing: border-box;top: 0;bottom: 0;left: 50%;z-index: 0;}#sk-container-id-1 div.sk-serial {display: flex;flex-direction: column;align-items: center;background-color: white;padding-right: 0.2em;padding-left: 0.2em;position: relative;}#sk-container-id-1 div.sk-item {position: relative;z-index: 1;}#sk-container-id-1 div.sk-parallel {display: flex;align-items: stretch;justify-content: center;background-color: white;position: relative;}#sk-container-id-1 div.sk-item::before, #sk-container-id-1 div.sk-parallel-item::before {content: \"\";position: absolute;border-left: 1px solid gray;box-sizing: border-box;top: 0;bottom: 0;left: 50%;z-index: -1;}#sk-container-id-1 div.sk-parallel-item {display: flex;flex-direction: column;z-index: 1;position: relative;background-color: white;}#sk-container-id-1 div.sk-parallel-item:first-child::after {align-self: flex-end;width: 50%;}#sk-container-id-1 div.sk-parallel-item:last-child::after {align-self: flex-start;width: 50%;}#sk-container-id-1 div.sk-parallel-item:only-child::after {width: 0;}#sk-container-id-1 div.sk-dashed-wrapped {border: 1px dashed gray;margin: 0 0.4em 0.5em 0.4em;box-sizing: border-box;padding-bottom: 0.4em;background-color: white;}#sk-container-id-1 div.sk-label label {font-family: monospace;font-weight: bold;display: inline-block;line-height: 1.2em;}#sk-container-id-1 div.sk-label-container {text-align: center;}#sk-container-id-1 div.sk-container {/* jupyter's `normalize.less` sets `[hidden] { display: none; }` but bootstrap.min.css set `[hidden] { display: none !important; }` so we also need the `!important` here to be able to override the default hidden behavior on the sphinx rendered scikit-learn.org. See: https://github.com/scikit-learn/scikit-learn/issues/21755 */display: inline-block !important;position: relative;}#sk-container-id-1 div.sk-text-repr-fallback {display: none;}</style><div id=\"sk-container-id-1\" class=\"sk-top-container\"><div class=\"sk-text-repr-fallback\"><pre>LinearRegression()</pre><b>In a Jupyter environment, please rerun this cell to show the HTML representation or trust the notebook. <br />On GitHub, the HTML representation is unable to render, please try loading this page with nbviewer.org.</b></div><div class=\"sk-container\" hidden><div class=\"sk-item\"><div class=\"sk-estimator sk-toggleable\"><input class=\"sk-toggleable__control sk-hidden--visually\" id=\"sk-estimator-id-1\" type=\"checkbox\" checked><label for=\"sk-estimator-id-1\" class=\"sk-toggleable__label sk-toggleable__label-arrow\">LinearRegression</label><div class=\"sk-toggleable__content\"><pre>LinearRegression()</pre></div></div></div></div></div>"
      ],
      "text/plain": [
       "LinearRegression()"
      ]
     },
     "execution_count": 67,
     "metadata": {},
     "output_type": "execute_result"
    }
   ],
   "source": [
    "# Initialize and train the linear regression model\n",
    "reg = LinearRegression()\n",
    "reg.fit(X_train,y_train)"
   ]
  },
  {
   "cell_type": "code",
   "execution_count": 69,
   "id": "d0d31008",
   "metadata": {},
   "outputs": [],
   "source": [
    "# Predict target variable for the test set\n",
    "y_pred = reg.predict(X_test)"
   ]
  },
  {
   "cell_type": "code",
   "execution_count": 72,
   "id": "5f5ee87c",
   "metadata": {},
   "outputs": [],
   "source": [
    "# Convert the X_test array into a pandas DataFrame\n",
    "X_test = pd.DataFrame(X_test)"
   ]
  },
  {
   "cell_type": "code",
   "execution_count": 73,
   "id": "3d76c1f8",
   "metadata": {},
   "outputs": [
    {
     "data": {
      "text/html": [
       "<div>\n",
       "<style scoped>\n",
       "    .dataframe tbody tr th:only-of-type {\n",
       "        vertical-align: middle;\n",
       "    }\n",
       "\n",
       "    .dataframe tbody tr th {\n",
       "        vertical-align: top;\n",
       "    }\n",
       "\n",
       "    .dataframe thead th {\n",
       "        text-align: right;\n",
       "    }\n",
       "</style>\n",
       "<table border=\"1\" class=\"dataframe\">\n",
       "  <thead>\n",
       "    <tr style=\"text-align: right;\">\n",
       "      <th></th>\n",
       "      <th>0</th>\n",
       "      <th>1</th>\n",
       "      <th>2</th>\n",
       "      <th>3</th>\n",
       "      <th>actual</th>\n",
       "      <th>predicted</th>\n",
       "    </tr>\n",
       "  </thead>\n",
       "  <tbody>\n",
       "    <tr>\n",
       "      <th>0</th>\n",
       "      <td>9.0</td>\n",
       "      <td>4.8</td>\n",
       "      <td>870.0</td>\n",
       "      <td>660.0</td>\n",
       "      <td>2150</td>\n",
       "      <td>2230.617478</td>\n",
       "    </tr>\n",
       "    <tr>\n",
       "      <th>1</th>\n",
       "      <td>17.0</td>\n",
       "      <td>7.1</td>\n",
       "      <td>930.0</td>\n",
       "      <td>730.0</td>\n",
       "      <td>2200</td>\n",
       "      <td>2481.898727</td>\n",
       "    </tr>\n",
       "    <tr>\n",
       "      <th>2</th>\n",
       "      <td>14.0</td>\n",
       "      <td>6.3</td>\n",
       "      <td>925.0</td>\n",
       "      <td>715.0</td>\n",
       "      <td>2650</td>\n",
       "      <td>2704.940379</td>\n",
       "    </tr>\n",
       "    <tr>\n",
       "      <th>3</th>\n",
       "      <td>9.0</td>\n",
       "      <td>4.7</td>\n",
       "      <td>850.0</td>\n",
       "      <td>650.0</td>\n",
       "      <td>1750</td>\n",
       "      <td>1859.728446</td>\n",
       "    </tr>\n",
       "    <tr>\n",
       "      <th>4</th>\n",
       "      <td>8.0</td>\n",
       "      <td>4.4</td>\n",
       "      <td>840.0</td>\n",
       "      <td>640.0</td>\n",
       "      <td>1900</td>\n",
       "      <td>1781.957161</td>\n",
       "    </tr>\n",
       "    <tr>\n",
       "      <th>5</th>\n",
       "      <td>23.0</td>\n",
       "      <td>8.9</td>\n",
       "      <td>1010.0</td>\n",
       "      <td>810.0</td>\n",
       "      <td>3600</td>\n",
       "      <td>3290.392338</td>\n",
       "    </tr>\n",
       "    <tr>\n",
       "      <th>6</th>\n",
       "      <td>6.0</td>\n",
       "      <td>3.8</td>\n",
       "      <td>840.0</td>\n",
       "      <td>640.0</td>\n",
       "      <td>1900</td>\n",
       "      <td>1968.280492</td>\n",
       "    </tr>\n",
       "    <tr>\n",
       "      <th>7</th>\n",
       "      <td>6.0</td>\n",
       "      <td>3.9</td>\n",
       "      <td>840.0</td>\n",
       "      <td>630.0</td>\n",
       "      <td>1850</td>\n",
       "      <td>1997.303623</td>\n",
       "    </tr>\n",
       "    <tr>\n",
       "      <th>8</th>\n",
       "      <td>4.0</td>\n",
       "      <td>3.5</td>\n",
       "      <td>830.0</td>\n",
       "      <td>650.0</td>\n",
       "      <td>1900</td>\n",
       "      <td>1909.298093</td>\n",
       "    </tr>\n",
       "    <tr>\n",
       "      <th>9</th>\n",
       "      <td>5.0</td>\n",
       "      <td>3.0</td>\n",
       "      <td>800.0</td>\n",
       "      <td>600.0</td>\n",
       "      <td>1500</td>\n",
       "      <td>1394.036874</td>\n",
       "    </tr>\n",
       "    <tr>\n",
       "      <th>10</th>\n",
       "      <td>6.0</td>\n",
       "      <td>3.7</td>\n",
       "      <td>820.0</td>\n",
       "      <td>670.0</td>\n",
       "      <td>2200</td>\n",
       "      <td>1468.237723</td>\n",
       "    </tr>\n",
       "    <tr>\n",
       "      <th>11</th>\n",
       "      <td>14.0</td>\n",
       "      <td>6.2</td>\n",
       "      <td>920.0</td>\n",
       "      <td>720.0</td>\n",
       "      <td>2700</td>\n",
       "      <td>2590.450773</td>\n",
       "    </tr>\n",
       "    <tr>\n",
       "      <th>12</th>\n",
       "      <td>17.0</td>\n",
       "      <td>7.2</td>\n",
       "      <td>955.0</td>\n",
       "      <td>745.0</td>\n",
       "      <td>2950</td>\n",
       "      <td>2938.254234</td>\n",
       "    </tr>\n",
       "    <tr>\n",
       "      <th>13</th>\n",
       "      <td>17.0</td>\n",
       "      <td>7.1</td>\n",
       "      <td>950.0</td>\n",
       "      <td>750.0</td>\n",
       "      <td>3000</td>\n",
       "      <td>2823.764628</td>\n",
       "    </tr>\n",
       "    <tr>\n",
       "      <th>14</th>\n",
       "      <td>16.0</td>\n",
       "      <td>6.9</td>\n",
       "      <td>940.0</td>\n",
       "      <td>730.0</td>\n",
       "      <td>2850</td>\n",
       "      <td>2775.016474</td>\n",
       "    </tr>\n",
       "    <tr>\n",
       "      <th>15</th>\n",
       "      <td>2.0</td>\n",
       "      <td>2.9</td>\n",
       "      <td>790.0</td>\n",
       "      <td>590.0</td>\n",
       "      <td>1400</td>\n",
       "      <td>1476.466491</td>\n",
       "    </tr>\n",
       "    <tr>\n",
       "      <th>16</th>\n",
       "      <td>20.0</td>\n",
       "      <td>8.1</td>\n",
       "      <td>985.0</td>\n",
       "      <td>775.0</td>\n",
       "      <td>3250</td>\n",
       "      <td>3171.568089</td>\n",
       "    </tr>\n",
       "    <tr>\n",
       "      <th>17</th>\n",
       "      <td>21.0</td>\n",
       "      <td>8.4</td>\n",
       "      <td>995.0</td>\n",
       "      <td>785.0</td>\n",
       "      <td>3350</td>\n",
       "      <td>3249.339374</td>\n",
       "    </tr>\n",
       "    <tr>\n",
       "      <th>18</th>\n",
       "      <td>3.0</td>\n",
       "      <td>3.6</td>\n",
       "      <td>820.0</td>\n",
       "      <td>660.0</td>\n",
       "      <td>2000</td>\n",
       "      <td>1753.888725</td>\n",
       "    </tr>\n",
       "    <tr>\n",
       "      <th>19</th>\n",
       "      <td>15.0</td>\n",
       "      <td>6.5</td>\n",
       "      <td>930.0</td>\n",
       "      <td>730.0</td>\n",
       "      <td>2800</td>\n",
       "      <td>2668.222058</td>\n",
       "    </tr>\n",
       "  </tbody>\n",
       "</table>\n",
       "</div>"
      ],
      "text/plain": [
       "       0    1       2      3  actual    predicted\n",
       "0    9.0  4.8   870.0  660.0    2150  2230.617478\n",
       "1   17.0  7.1   930.0  730.0    2200  2481.898727\n",
       "2   14.0  6.3   925.0  715.0    2650  2704.940379\n",
       "3    9.0  4.7   850.0  650.0    1750  1859.728446\n",
       "4    8.0  4.4   840.0  640.0    1900  1781.957161\n",
       "5   23.0  8.9  1010.0  810.0    3600  3290.392338\n",
       "6    6.0  3.8   840.0  640.0    1900  1968.280492\n",
       "7    6.0  3.9   840.0  630.0    1850  1997.303623\n",
       "8    4.0  3.5   830.0  650.0    1900  1909.298093\n",
       "9    5.0  3.0   800.0  600.0    1500  1394.036874\n",
       "10   6.0  3.7   820.0  670.0    2200  1468.237723\n",
       "11  14.0  6.2   920.0  720.0    2700  2590.450773\n",
       "12  17.0  7.2   955.0  745.0    2950  2938.254234\n",
       "13  17.0  7.1   950.0  750.0    3000  2823.764628\n",
       "14  16.0  6.9   940.0  730.0    2850  2775.016474\n",
       "15   2.0  2.9   790.0  590.0    1400  1476.466491\n",
       "16  20.0  8.1   985.0  775.0    3250  3171.568089\n",
       "17  21.0  8.4   995.0  785.0    3350  3249.339374\n",
       "18   3.0  3.6   820.0  660.0    2000  1753.888725\n",
       "19  15.0  6.5   930.0  730.0    2800  2668.222058"
      ]
     },
     "execution_count": 73,
     "metadata": {},
     "output_type": "execute_result"
    }
   ],
   "source": [
    "# Add actual and predicted values to the test set\n",
    "X_test['actual'] = y_test\n",
    "X_test['predicted'] = y_pred\n",
    "X_test"
   ]
  },
  {
   "cell_type": "code",
   "execution_count": 74,
   "id": "1408a905",
   "metadata": {},
   "outputs": [
    {
     "name": "stdout",
     "output_type": "stream",
     "text": [
      "The model performance for testing set\n",
      "--------------------------------------\n",
      "MAE is 151.1702639004362\n",
      "MSE is 46642.749097054635\n",
      "RMSE is 215.9693244353342\n",
      "R2 score is 0.8808538243896682\n"
     ]
    }
   ],
   "source": [
    "# Calculate evaluation metrics\n",
    "mae = metrics.mean_absolute_error(y_test, y_pred)\n",
    "mse = metrics.mean_squared_error(y_test, y_pred)\n",
    "rmse = np.sqrt(mse)\n",
    "r2 = metrics.r2_score(y_test, y_pred)\n",
    "\n",
    "# Print model performance for testing set\n",
    "print(\"The model performance for testing set\")\n",
    "print(\"--------------------------------------\")\n",
    "print('MAE is {}'.format(mae))\n",
    "print('MSE is {}'.format(mse))\n",
    "print('RMSE is {}'.format(rmse))\n",
    "print('R2 score is {}'.format(r2))"
   ]
  },
  {
   "cell_type": "code",
   "execution_count": 75,
   "id": "b70360ee",
   "metadata": {},
   "outputs": [
    {
     "name": "stdout",
     "output_type": "stream",
     "text": [
      "The model performance for training set\n",
      "--------------------------------------\n",
      "MAE is 174.15299079556416\n",
      "MSE is 50375.09294122139\n",
      "RMSE is 215.9693244353342\n",
      "R2 score is 0.864827787890782\n"
     ]
    }
   ],
   "source": [
    "# Predict target variable for the training set\n",
    "y_pred_train = reg.predict(X_train)\n",
    "\n",
    "# Calculate evaluation metrics for training set\n",
    "mae_tr = metrics.mean_absolute_error(y_train, y_pred_train)\n",
    "mse_tr = metrics.mean_squared_error(y_train, y_pred_train)\n",
    "rmse_tr = np.sqrt(mse_tr)\n",
    "r2_tr = metrics.r2_score(y_train, y_pred_train)\n",
    "\n",
    "# Print model performance for training set\n",
    "print(\"The model performance for training set\")\n",
    "print(\"--------------------------------------\")\n",
    "print('MAE is {}'.format(mae_tr))\n",
    "print('MSE is {}'.format(mse_tr))\n",
    "print('RMSE is {}'.format(rmse_tr))\n",
    "print('R2 score is {}'.format(r2_tr))"
   ]
  }
 ],
 "metadata": {
  "kernelspec": {
   "display_name": "Python 3 (ipykernel)",
   "language": "python",
   "name": "python3"
  },
  "language_info": {
   "codemirror_mode": {
    "name": "ipython",
    "version": 3
   },
   "file_extension": ".py",
   "mimetype": "text/x-python",
   "name": "python",
   "nbconvert_exporter": "python",
   "pygments_lexer": "ipython3",
   "version": "3.11.5"
  }
 },
 "nbformat": 4,
 "nbformat_minor": 5
}
